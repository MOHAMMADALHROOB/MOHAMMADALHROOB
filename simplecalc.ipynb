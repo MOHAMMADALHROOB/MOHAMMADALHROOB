def simple_calc(x,y,oper) :

  if oper == "+" :
    print(x+y)
  elif oper == "-" :
    print(x-y)
  elif oper == "*" :
    print(x*y)
  elif oper == "/" :
    print(x/y)
  elif oper == "**" :
    print(x**y)
  elif oper =="//":
    print(x//y)
  elif oper =="%":
    print(x%y)
  else :
    print("check your operator")
    
simple_calc(1,2,"**")
